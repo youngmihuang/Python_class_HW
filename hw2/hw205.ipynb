{
 "cells": [
  {
   "cell_type": "code",
   "execution_count": 2,
   "metadata": {},
   "outputs": [
    {
     "name": "stdout",
     "output_type": "stream",
     "text": [
      "3.39116499156\n"
     ]
    }
   ],
   "source": [
    "# coding=utf-8\n",
    "'''\n",
    "實作樣本標準差的函數 `my_sd()`，可以使用 `math.sqrt()` 或前一題自訂的 `my_sqrt()\n",
    "Author: Youngmi\n",
    "'''\n",
    "import math as math\n",
    "\n",
    "def my_sd(alist):\n",
    "    sum1 = 0\n",
    "    avg = float(sum(alist)) / len(alist)\n",
    "    for i in alist:\n",
    "        add = (i - avg) **2\n",
    "        sum1 += add  \n",
    "    return math.sqrt(sum1/ (len(alist) -1)) \n",
    "\n",
    "a = [2,3,2,3,10]\n",
    "print my_sd(a)"
   ]
  }
 ],
 "metadata": {
  "kernelspec": {
   "display_name": "Python 2",
   "language": "python",
   "name": "python2"
  },
  "language_info": {
   "codemirror_mode": {
    "name": "ipython",
    "version": 2
   },
   "file_extension": ".py",
   "mimetype": "text/x-python",
   "name": "python",
   "nbconvert_exporter": "python",
   "pygments_lexer": "ipython2",
   "version": "2.7.12"
  }
 },
 "nbformat": 4,
 "nbformat_minor": 2
}

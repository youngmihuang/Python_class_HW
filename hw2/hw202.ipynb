{
 "cells": [
  {
   "cell_type": "code",
   "execution_count": 2,
   "metadata": {},
   "outputs": [
    {
     "name": "stdout",
     "output_type": "stream",
     "text": [
      "[2, 3, 5, 8, 13, 21, 34, 55, 89, 144, 233, 377, 610, 987, 1597, 2584, 4181, 6765, 10946, 17711]\n"
     ]
    }
   ],
   "source": [
    "#hw202\n",
    "# coding=utf-8\n",
    "'''\n",
    "寫一個 Fibonacci 數列的產生函數 `fib_gen()`，有三個輸入：第一個數字、第二個數字與數列長度\n",
    "Author: Youngmi\n",
    "'''\n",
    "def ABC(num1, num2, length):\n",
    "    alist = [num1, num2]\n",
    "    if length > 2:\n",
    "        for i in range(2,length,1):\n",
    "            ai = alist[i-1] + alist[i-2]\n",
    "            alist.append(ai)\n",
    "        return alist\n",
    "\n",
    "    elif 0 < length <= 2:\n",
    "        return alist\n",
    "    else:\n",
    "        return 'please enter the natural number'\n",
    "\n",
    "print ABC(2,3,20)"
   ]
  }
 ],
 "metadata": {
  "kernelspec": {
   "display_name": "Python 2",
   "language": "python",
   "name": "python2"
  },
  "language_info": {
   "codemirror_mode": {
    "name": "ipython",
    "version": 2
   },
   "file_extension": ".py",
   "mimetype": "text/x-python",
   "name": "python",
   "nbconvert_exporter": "python",
   "pygments_lexer": "ipython2",
   "version": "2.7.12"
  }
 },
 "nbformat": 4,
 "nbformat_minor": 2
}

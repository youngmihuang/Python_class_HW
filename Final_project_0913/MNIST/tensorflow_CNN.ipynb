{
 "cells": [
  {
   "cell_type": "code",
   "execution_count": 43,
   "metadata": {
    "collapsed": true
   },
   "outputs": [],
   "source": [
    "%matplotlib inline\n",
    "import numpy as np\n",
    "import pandas as pd\n",
    "import tensorflow as tf\n",
    "import matplotlib.pyplot as plt\n",
    "from sklearn.model_selection import ShuffleSplit\n",
    "from sklearn.preprocessing import StandardScaler, LabelEncoder, OneHotEncoder"
   ]
  },
  {
   "cell_type": "code",
   "execution_count": 99,
   "metadata": {
    "collapsed": true
   },
   "outputs": [],
   "source": [
    "LABELS = 10 # Number of different types of labels (1-10)\n",
    "WIDTH = 28 # width / height of the image\n",
    "CHANNELS = 1 # Number of colors in the image (greyscale)\n",
    "\n",
    "VALID = 10000 # Validation data size\n",
    "\n",
    "STEPS = 3000 # Number of steps to run\n",
    "BATCH = 200 #250 #150 Stochastic Gradient Descent batch size\n",
    "PATCH = 5 # Convolutional Kernel size\n",
    "DEPTH = 8 #16 #Convolutional Kernel depth size == Number of Convolutional Kernels\n",
    "HIDDEN = 100 # Number of hidden neurons in the fully connected layer\n",
    "\n",
    "LR = 0.001 # Learning rate"
   ]
  },
  {
   "cell_type": "markdown",
   "metadata": {},
   "source": [
    "## Import data\n",
    "- one-hot encoding\n",
    "- split data into train & validation"
   ]
  },
  {
   "cell_type": "code",
   "execution_count": 84,
   "metadata": {},
   "outputs": [
    {
     "name": "stdout",
     "output_type": "stream",
     "text": [
      "train data shape = (32000, 28, 28, 1) = (TRAIN, WIDTH, WIDTH, CHANNELS)\n",
      "labels shape = (32000, 10) = (TRAIN, LABELS)\n"
     ]
    }
   ],
   "source": [
    "# read csv file in pandas dataframe\n",
    "data = pd.read_csv('../final/train.csv')\n",
    "\n",
    "# 預測目標Y的轉換\n",
    "labels = np.array(data.pop('label')) \n",
    "labels = LabelEncoder().fit_transform(labels)[:, None]\n",
    "labels = OneHotEncoder().fit_transform(labels).todense()\n",
    "\n",
    "# 保存data中的參數\n",
    "# reshape data into 2-D images\n",
    "data = StandardScaler().fit_transform(np.float32(data.values)) \n",
    "data = data.reshape(-1, WIDTH, WIDTH, CHANNELS) \n",
    "\n",
    "# split data into train and validation\n",
    "train_data, valid_data = data[:-VALID], data[-VALID:]\n",
    "train_labels, valid_labels = labels[:-VALID], labels[-VALID:]\n",
    "\n",
    "print('train data shape = ' + str(train_data.shape) + ' = (TRAIN, WIDTH, WIDTH, CHANNELS)')\n",
    "print('labels shape = ' + str(train_labels.shape) + ' = (TRAIN, LABELS)')"
   ]
  },
  {
   "cell_type": "markdown",
   "metadata": {},
   "source": [
    "## Model\n",
    "- build 2 convolution layers, followed by one fully conected layer"
   ]
  },
  {
   "cell_type": "code",
   "execution_count": 100,
   "metadata": {
    "collapsed": true
   },
   "outputs": [],
   "source": [
    "# placeholder 為可以讓 computational graph保留輸入欄位的節點(tensor)\n",
    "# 放x的tensor\n",
    "tf_data = tf.placeholder(tf.float32, shape=(None, WIDTH, WIDTH, CHANNELS))\n",
    "# 放y的tensor\n",
    "tf_labels = tf.placeholder(tf.float32, shape=(None, LABELS))"
   ]
  },
  {
   "cell_type": "code",
   "execution_count": 101,
   "metadata": {
    "collapsed": true
   },
   "outputs": [],
   "source": [
    "# 2 convolution layers\n",
    "w1 = tf.Variable(tf.truncated_normal([PATCH, PATCH, CHANNELS, DEPTH], stddev=0.1))\n",
    "b1 = tf.Variable(tf.zeros([DEPTH]))\n",
    "w2 = tf.Variable(tf.truncated_normal([PATCH, PATCH, DEPTH, 2*DEPTH], stddev=0.1))\n",
    "b2 = tf.Variable(tf.constant(1.0, shape=[2*DEPTH]))\n",
    "\n",
    "# fully connected hidden layer\n",
    "w3 = tf.Variable(tf.truncated_normal([WIDTH // 4 * WIDTH // 4 * 2*DEPTH, HIDDEN], stddev=0.1))\n",
    "b3 = tf.Variable(tf.constant(1.0, shape=[HIDDEN]))\n",
    "\n",
    "# output layer\n",
    "w4 = tf.Variable(tf.truncated_normal([HIDDEN, LABELS], stddev=0.1))\n",
    "b4 = tf.Variable(tf.constant(1.0, shape=[LABELS]))\n",
    "\n",
    "def logits(data):\n",
    "    # Convolutional layer 1\n",
    "    x = tf.nn.conv2d(data, w1, [1, 1, 1, 1], padding='SAME')\n",
    "    x = tf.nn.max_pool(x, [1, 2, 2, 1], [1, 2, 2, 1], padding='SAME')\n",
    "    x = tf.nn.relu(x + b1) #activation function\n",
    "    # Convolutional layer 2\n",
    "    x = tf.nn.conv2d(x, w2, [1, 1, 1, 1], padding='SAME')\n",
    "    x = tf.nn.max_pool(x, [1, 2, 2, 1], [1, 2, 2, 1], padding='SAME')\n",
    "    x = tf.nn.relu(x + b2)\n",
    "    # Fully connected layer\n",
    "    x = tf.reshape(x, (-1, WIDTH // 4 * WIDTH // 4 * 2*DEPTH))\n",
    "    x = tf.nn.relu(tf.matmul(x, w3) + b3)\n",
    "    \n",
    "    return tf.matmul(x, w4) + b4 #矩陣相乘\n",
    "\n",
    "# Prediction:\n",
    "tf_pred = tf.nn.softmax(logits(tf_data))"
   ]
  },
  {
   "cell_type": "code",
   "execution_count": 102,
   "metadata": {
    "collapsed": true
   },
   "outputs": [],
   "source": [
    "# use the categorical cross entropy loss for training model\n",
    "tf_loss = tf.reduce_mean(tf.nn.softmax_cross_entropy_with_logits(logits=logits(tf_data), labels=tf_labels))\n",
    "tf_acc = 100 * tf.reduce_mean(tf.to_float(tf.equal(tf.argmax(tf_pred, 1), tf.argmax(tf_labels, 1))))\n",
    "\n",
    "# 優化算法的決定\n",
    "#tf_opt = tf.train.GradientDescentOptimizer(LR)\n",
    "#tf_opt = tf.train.AdamOptimizer(LR)\n",
    "tf_opt = tf.train.RMSPropOptimizer(LR)\n",
    "tf_step = tf_opt.minimize(tf_loss)"
   ]
  },
  {
   "cell_type": "markdown",
   "metadata": {},
   "source": [
    "## Scoring_Train"
   ]
  },
  {
   "cell_type": "code",
   "execution_count": 104,
   "metadata": {
    "collapsed": true
   },
   "outputs": [],
   "source": [
    "init = tf.global_variables_initializer()\n",
    "session = tf.Session()\n",
    "session.run(init)"
   ]
  },
  {
   "cell_type": "code",
   "execution_count": 105,
   "metadata": {
    "collapsed": true
   },
   "outputs": [],
   "source": [
    "from __future__ import print_function"
   ]
  },
  {
   "cell_type": "code",
   "execution_count": 36,
   "metadata": {},
   "outputs": [
    {
     "name": "stdout",
     "output_type": "stream",
     "text": [
      "Step 500 \t Valid. Acc. = 98.459999\n",
      "Step 1000 \t Valid. Acc. = 98.379997\n",
      "Step 1500 \t Valid. Acc. = 98.360001\n",
      "Step 2000 \t Valid. Acc. = 98.470001\n",
      "Step 2500 \t Valid. Acc. = 98.529999\n",
      "Step 3000 \t Valid. Acc. = 98.479996\n",
      "Step 3500 \t Valid. Acc. = 98.500000\n"
     ]
    }
   ],
   "source": [
    "#batch= 100\n",
    "ss = ShuffleSplit(n_splits=STEPS, train_size=BATCH)\n",
    "ss.get_n_splits(train_data, train_labels)\n",
    "history = [(0, np.nan, 10)] # Initial Error Measures\n",
    "for step, (idx, _) in enumerate(ss.split(train_data,train_labels), start=1):\n",
    "    fd = {tf_data:train_data[idx], tf_labels:train_labels[idx]}\n",
    "    session.run(tf_step, feed_dict=fd)\n",
    "    if step%500 == 0:\n",
    "        fd = {tf_data:valid_data, tf_labels:valid_labels}\n",
    "        valid_loss, valid_accuracy = session.run([tf_loss, tf_acc], feed_dict=fd)\n",
    "        history.append((step, valid_loss, valid_accuracy))\n",
    "        print ('Step %i \\t Valid. Acc. = %f'%(step, valid_accuracy), end='\\n')"
   ]
  },
  {
   "cell_type": "code",
   "execution_count": 49,
   "metadata": {},
   "outputs": [
    {
     "name": "stdout",
     "output_type": "stream",
     "text": [
      "Step 500 \t Valid. Acc. = 98.540001\n",
      "Step 1000 \t Valid. Acc. = 98.540001\n",
      "Step 1500 \t Valid. Acc. = 98.540001\n",
      "Step 2000 \t Valid. Acc. = 98.529999\n",
      "Step 2500 \t Valid. Acc. = 98.529999\n",
      "Step 3000 \t Valid. Acc. = 98.529999\n"
     ]
    }
   ],
   "source": [
    "# batch = 200, depth= 8\n",
    "ss1 = ShuffleSplit(n_splits=STEPS, train_size=BATCH)\n",
    "ss1.get_n_splits(train_data, train_labels)\n",
    "history = [(0, np.nan, 10)] # Initial Error Measures\n",
    "for step, (idx, _) in enumerate(ss1.split(train_data,train_labels), start=1):\n",
    "    fd = {tf_data:train_data[idx], tf_labels:train_labels[idx]}\n",
    "    session.run(tf_step, feed_dict=fd)\n",
    "    if step%500 == 0:\n",
    "        fd = {tf_data:valid_data, tf_labels:valid_labels}\n",
    "        valid_loss, valid_accuracy = session.run([tf_loss, tf_acc], feed_dict=fd)\n",
    "        history.append((step, valid_loss, valid_accuracy))\n",
    "        print ('Step %i \\t Valid. Acc. = %f'%(step, valid_accuracy), end='\\n')"
   ]
  },
  {
   "cell_type": "code",
   "execution_count": 106,
   "metadata": {},
   "outputs": [
    {
     "name": "stdout",
     "output_type": "stream",
     "text": [
      "Step 500 \t Valid. Acc. = 96.849998\n",
      "Step 1000 \t Valid. Acc. = 97.970001\n",
      "Step 1500 \t Valid. Acc. = 98.500000\n",
      "Step 2000 \t Valid. Acc. = 98.589996\n",
      "Step 2500 \t Valid. Acc. = 98.559998\n",
      "Step 3000 \t Valid. Acc. = 98.329994\n"
     ]
    }
   ],
   "source": [
    "# batch = 200, depth= 16\n",
    "ss4 = ShuffleSplit(n_splits=STEPS, train_size=BATCH)\n",
    "ss4.get_n_splits(train_data, train_labels)\n",
    "history = [(0, np.nan, 10)] # Initial Error Measures\n",
    "for step, (idx, _) in enumerate(ss4.split(train_data,train_labels), start=1):\n",
    "    fd = {tf_data:train_data[idx], tf_labels:train_labels[idx]}\n",
    "    session.run(tf_step, feed_dict=fd)\n",
    "    if step%500 == 0:\n",
    "        fd = {tf_data:valid_data, tf_labels:valid_labels}\n",
    "        valid_loss, valid_accuracy = session.run([tf_loss, tf_acc], feed_dict=fd)\n",
    "        history.append((step, valid_loss, valid_accuracy))\n",
    "        print ('Step %i \\t Valid. Acc. = %f'%(step, valid_accuracy), end='\\n')"
   ]
  },
  {
   "cell_type": "code",
   "execution_count": 53,
   "metadata": {},
   "outputs": [
    {
     "name": "stdout",
     "output_type": "stream",
     "text": [
      "Step 500 \t Valid. Acc. = 98.529999\n",
      "Step 1000 \t Valid. Acc. = 98.529999\n",
      "Step 1500 \t Valid. Acc. = 98.529999\n",
      "Step 2000 \t Valid. Acc. = 98.519997\n",
      "Step 2500 \t Valid. Acc. = 98.519997\n",
      "Step 3000 \t Valid. Acc. = 98.519997\n"
     ]
    }
   ],
   "source": [
    "# batch = 250\n",
    "ss2 = ShuffleSplit(n_splits=STEPS, train_size=BATCH)\n",
    "ss2.get_n_splits(train_data, train_labels)\n",
    "history = [(0, np.nan, 10)] # Initial Error Measures\n",
    "for step, (idx, _) in enumerate(ss2.split(train_data,train_labels), start=1):\n",
    "    fd = {tf_data:train_data[idx], tf_labels:train_labels[idx]}\n",
    "    session.run(tf_step, feed_dict=fd)\n",
    "    if step%500 == 0:\n",
    "        fd = {tf_data:valid_data, tf_labels:valid_labels}\n",
    "        valid_loss, valid_accuracy = session.run([tf_loss, tf_acc], feed_dict=fd)\n",
    "        history.append((step, valid_loss, valid_accuracy))\n",
    "        print ('Step %i \\t Valid. Acc. = %f'%(step, valid_accuracy), end='\\n')"
   ]
  },
  {
   "cell_type": "code",
   "execution_count": 64,
   "metadata": {},
   "outputs": [
    {
     "name": "stdout",
     "output_type": "stream",
     "text": [
      "Step 500 \t Valid. Acc. = 95.980003\n",
      "Step 1000 \t Valid. Acc. = 97.809998\n",
      "Step 1500 \t Valid. Acc. = 98.019997\n",
      "Step 2000 \t Valid. Acc. = 98.540001\n",
      "Step 2500 \t Valid. Acc. = 98.419998\n",
      "Step 3000 \t Valid. Acc. = 98.589996\n"
     ]
    }
   ],
   "source": [
    "# batch = 150\n",
    "ss3 = ShuffleSplit(n_splits=STEPS, train_size=BATCH)\n",
    "ss3.get_n_splits(train_data, train_labels)\n",
    "history = [(0, np.nan, 10)] # Initial Error Measures\n",
    "for step, (idx, _) in enumerate(ss3.split(train_data,train_labels), start=1):\n",
    "    fd = {tf_data:train_data[idx], tf_labels:train_labels[idx]}\n",
    "    session.run(tf_step, feed_dict=fd)\n",
    "    if step%500 == 0:\n",
    "        fd = {tf_data:valid_data, tf_labels:valid_labels}\n",
    "        valid_loss, valid_accuracy = session.run([tf_loss, tf_acc], feed_dict=fd)\n",
    "        history.append((step, valid_loss, valid_accuracy))\n",
    "        print ('Step %i \\t Valid. Acc. = %f'%(step, valid_accuracy), end='\\n')"
   ]
  },
  {
   "cell_type": "code",
   "execution_count": 91,
   "metadata": {},
   "outputs": [
    {
     "data": {
      "image/png": "[encoded data removed]",
      "text/plain": [
       "<matplotlib.figure.Figure at 0x1160ad9d0>"
      ]
     },
     "metadata": {},
     "output_type": "display_data"
    }
   ],
   "source": [
    "# 視覺化\n",
    "steps, loss, acc = zip(*history)\n",
    "\n",
    "fig = plt.figure()\n",
    "plt.title('Validation Loss / Accuracy')\n",
    "ax_loss = fig.add_subplot(111)\n",
    "ax_acc = ax_loss.twinx()\n",
    "plt.xlabel('Training Steps')\n",
    "plt.xlim(0, max(steps))\n",
    "\n",
    "ax_loss.plot(steps, loss, '-o', color='C0')\n",
    "ax_loss.set_ylabel('Log Loss', color='C0');\n",
    "ax_loss.tick_params('y', colors='C0')\n",
    "ax_loss.set_ylim(0.01, 0.5)\n",
    "\n",
    "ax_acc.plot(steps, acc, '-o', color='C1')\n",
    "ax_acc.set_ylabel('Accuracy [%]', color='C1');\n",
    "ax_acc.tick_params('y', colors='C1')\n",
    "ax_acc.set_ylim(1,100)\n",
    "\n",
    "plt.show()"
   ]
  },
  {
   "cell_type": "markdown",
   "metadata": {},
   "source": [
    "## Results"
   ]
  },
  {
   "cell_type": "code",
   "execution_count": 80,
   "metadata": {},
   "outputs": [],
   "source": [
    "test = pd.read_csv('../final/test.csv') # Read csv file in pandas dataframe\n",
    "test_data = StandardScaler().fit_transform(np.float32(test.values)) # Convert the dataframe to a numpy array\n",
    "test_data = test_data.reshape(-1, WIDTH, WIDTH, CHANNELS) # Reshape the data into 42000 2d images"
   ]
  },
  {
   "cell_type": "code",
   "execution_count": 107,
   "metadata": {},
   "outputs": [],
   "source": [
    "# feed_dict: 將test_data傳入tensor（tf_data）當中\n",
    "test_pred = session.run(tf_pred, feed_dict={tf_data:test_data})\n",
    "test_labels = np.argmax(test_pred, axis=1)"
   ]
  },
  {
   "cell_type": "code",
   "execution_count": 108,
   "metadata": {},
   "outputs": [
    {
     "name": "stdout",
     "output_type": "stream",
     "text": [
      "Label Prediction: 7\n"
     ]
    },
    {
     "data": {
      "image/png": "[encoded data removed]",
      "text/plain": [
       "<matplotlib.figure.Figure at 0x117ee0110>"
      ]
     },
     "metadata": {},
     "output_type": "display_data"
    }
   ],
   "source": [
    "k = 11 # Try different image indices k\n",
    "print(\"Label Prediction: %i\"%test_labels[k])\n",
    "fig = plt.figure(figsize=(2,2)); plt.axis('off')\n",
    "plt.imshow(test_data[k,:,:,0]); plt.show()"
   ]
  },
  {
   "cell_type": "code",
   "execution_count": 109,
   "metadata": {},
   "outputs": [
    {
     "data": {
      "text/html": [
       "<div>\n",
       "<table border=\"1\" class=\"dataframe\">\n",
       "  <thead>\n",
       "    <tr style=\"text-align: right;\">\n",
       "      <th></th>\n",
       "      <th>ImageId</th>\n",
       "      <th>Label</th>\n",
       "    </tr>\n",
       "  </thead>\n",
       "  <tbody>\n",
       "    <tr>\n",
       "      <th>27995</th>\n",
       "      <td>27996</td>\n",
       "      <td>9</td>\n",
       "    </tr>\n",
       "    <tr>\n",
       "      <th>27996</th>\n",
       "      <td>27997</td>\n",
       "      <td>7</td>\n",
       "    </tr>\n",
       "    <tr>\n",
       "      <th>27997</th>\n",
       "      <td>27998</td>\n",
       "      <td>3</td>\n",
       "    </tr>\n",
       "    <tr>\n",
       "      <th>27998</th>\n",
       "      <td>27999</td>\n",
       "      <td>9</td>\n",
       "    </tr>\n",
       "    <tr>\n",
       "      <th>27999</th>\n",
       "      <td>28000</td>\n",
       "      <td>2</td>\n",
       "    </tr>\n",
       "  </tbody>\n",
       "</table>\n",
       "</div>"
      ],
      "text/plain": [
       "       ImageId  Label\n",
       "27995    27996      9\n",
       "27996    27997      7\n",
       "27997    27998      3\n",
       "27998    27999      9\n",
       "27999    28000      2"
      ]
     },
     "execution_count": 109,
     "metadata": {},
     "output_type": "execute_result"
    }
   ],
   "source": [
    "submission = pd.DataFrame(data={'ImageId':(np.arange(test_labels.shape[0])+1), 'Label':test_labels})\n",
    "submission.to_csv('submission_8.csv', index=False)\n",
    "submission.tail()"
   ]
  },
  {
   "cell_type": "code",
   "execution_count": 110,
   "metadata": {
    "collapsed": true
   },
   "outputs": [],
   "source": [
    "## Close Session\n",
    "session.close()"
   ]
  },
  {
   "cell_type": "code",
   "execution_count": null,
   "metadata": {
    "collapsed": true
   },
   "outputs": [],
   "source": []
  }
 ],
 "metadata": {
  "kernelspec": {
   "display_name": "Python 2",
   "language": "python",
   "name": "python2"
  },
  "language_info": {
   "codemirror_mode": {
    "name": "ipython",
    "version": 2
   },
   "file_extension": ".py",
   "mimetype": "text/x-python",
   "name": "python",
   "nbconvert_exporter": "python",
   "pygments_lexer": "ipython2",
   "version": "2.7.12"
  }
 },
 "nbformat": 4,
 "nbformat_minor": 2
}

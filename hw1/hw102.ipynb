{
 "cells": [
  {
   "cell_type": "code",
   "execution_count": null,
   "metadata": {
    "collapsed": true
   },
   "outputs": [],
   "source": [
    "#hw2\n",
    "# coding=utf-8\n",
    "# while是用在不知道迭代次數情形下\n",
    "'''\n",
    "投擲一枚公正的骰子，總共出現三個六才能停下來，請印出投擲總次數與投擲軌跡\n",
    "Author: Youngmi\n",
    "'''\n",
    "from random import choice\n",
    "\n",
    "get_num = []\n",
    "num = [\"1\",\"2\",\"3\",\"4\",\"5\",\"6\"]\n",
    "\n",
    "while get_num.count(\"6\") < 3:\n",
    "    get_num.append(choice(num))\n",
    "print get_num\n",
    "print len(get_num)"
   ]
  }
 ],
 "metadata": {
  "kernelspec": {
   "display_name": "Python 2",
   "language": "python",
   "name": "python2"
  },
  "language_info": {
   "codemirror_mode": {
    "name": "ipython",
    "version": 2
   },
   "file_extension": ".py",
   "mimetype": "text/x-python",
   "name": "python",
   "nbconvert_exporter": "python",
   "pygments_lexer": "ipython2",
   "version": "2.7.12"
  }
 },
 "nbformat": 4,
 "nbformat_minor": 2
}

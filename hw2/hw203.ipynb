{
 "cells": [
  {
   "cell_type": "code",
   "execution_count": 3,
   "metadata": {},
   "outputs": [
    {
     "name": "stdout",
     "output_type": "stream",
     "text": [
      "[7, 5, 3, 3, 2]\n"
     ]
    }
   ],
   "source": [
    "# coding=utf-8\n",
    "'''\n",
    "實作交換排序法函數 `exchange_sort()`，並且有一個參數可以決定要遞增或遞減排序\n",
    "Author: Youngmi\n",
    "'''\n",
    "def exchange_sort(x, is_order= True): #Default = True\n",
    "    if is_order == True:\n",
    "        return sorted(x)\n",
    "    else:\n",
    "        return sorted(x , reverse = True)\n",
    "\n",
    "alist=[3,5,2,3,7]\n",
    "print exchange_sort(alist, False)\n"
   ]
  }
 ],
 "metadata": {
  "kernelspec": {
   "display_name": "Python 2",
   "language": "python",
   "name": "python2"
  },
  "language_info": {
   "codemirror_mode": {
    "name": "ipython",
    "version": 2
   },
   "file_extension": ".py",
   "mimetype": "text/x-python",
   "name": "python",
   "nbconvert_exporter": "python",
   "pygments_lexer": "ipython2",
   "version": "2.7.12"
  }
 },
 "nbformat": 4,
 "nbformat_minor": 2
}

{
 "cells": [
  {
   "cell_type": "code",
   "execution_count": null,
   "metadata": {
    "collapsed": true
   },
   "outputs": [],
   "source": [
    "# coding=utf-8\n",
    "'''\n",
    "利用 numpy 提供的 .size 屬性、.sum() 方法、.mean() 方法與 .sqrt() 實作樣本標準差函數\n",
    "Author: Youngmi\n",
    "'''"
   ]
  },
  {
   "cell_type": "code",
   "execution_count": 1,
   "metadata": {
    "collapsed": true
   },
   "outputs": [],
   "source": [
    "import numpy as np"
   ]
  },
  {
   "cell_type": "code",
   "execution_count": 12,
   "metadata": {},
   "outputs": [
    {
     "name": "stdout",
     "output_type": "stream",
     "text": [
      "3.0\n"
     ]
    }
   ],
   "source": [
    "def my_sd(alist):\n",
    "    sum1 = 0.0\n",
    "    avg = np.mean(alist, dtype = 'float64')\n",
    "    for i in alist:\n",
    "        add = (i - avg) **2\n",
    "        sum1 = np.sum(add)\n",
    "    return np.sqrt(sum1/ (np.size(alist) -1), dtype = 'float64') \n",
    "\n",
    "a = [2,3,2,3,10]\n",
    "print my_sd(a)"
   ]
  }
 ],
 "metadata": {
  "kernelspec": {
   "display_name": "Python 2",
   "language": "python",
   "name": "python2"
  },
  "language_info": {
   "codemirror_mode": {
    "name": "ipython",
    "version": 2
   },
   "file_extension": ".py",
   "mimetype": "text/x-python",
   "name": "python",
   "nbconvert_exporter": "python",
   "pygments_lexer": "ipython2",
   "version": "2.7.12"
  }
 },
 "nbformat": 4,
 "nbformat_minor": 2
}

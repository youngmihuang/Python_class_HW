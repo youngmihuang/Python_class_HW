{
 "cells": [
  {
   "cell_type": "code",
   "execution_count": 6,
   "metadata": {},
   "outputs": [
    {
     "name": "stdout",
     "output_type": "stream",
     "text": [
      "Yes\n"
     ]
    }
   ],
   "source": [
    "#hw201\n",
    "# coding=utf-8\n",
    "'''\n",
    "實作質數判斷函數 `is_prime()`，可以判斷輸入的數字是否為質數\n",
    "Author: XXX\n",
    "'''\n",
    "def is_prime(x):\n",
    "    if x in range(2):\n",
    "        return 'No'\n",
    "    elif x == 2:\n",
    "        return 'Yes'\n",
    "    else:\n",
    "        for i in range(2,x):\n",
    "            if x % i == 0 :\n",
    "                return 'No'\n",
    "            else:\n",
    "                return 'Yes'\n",
    "print is_prime(2)"
   ]
  }
 ],
 "metadata": {
  "kernelspec": {
   "display_name": "Python 2",
   "language": "python",
   "name": "python2"
  },
  "language_info": {
   "codemirror_mode": {
    "name": "ipython",
    "version": 2
   },
   "file_extension": ".py",
   "mimetype": "text/x-python",
   "name": "python",
   "nbconvert_exporter": "python",
   "pygments_lexer": "ipython2",
   "version": "2.7.12"
  }
 },
 "nbformat": 4,
 "nbformat_minor": 2
}

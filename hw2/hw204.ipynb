{
 "cells": [
  {
   "cell_type": "code",
   "execution_count": 1,
   "metadata": {},
   "outputs": [
    {
     "name": "stdout",
     "output_type": "stream",
     "text": [
      "5 0 2.5\n",
      "2.5 0 1.25\n",
      "2.5 1.25 1.875\n",
      "2.5 1.875 2.1875\n",
      "2.5 2.1875 2.34375\n",
      "2.34375 2.1875 2.265625\n",
      "2.265625 2.1875 2.2265625\n",
      "2.265625 2.2265625 2.24609375\n",
      "---\n",
      "2.236328125\n"
     ]
    }
   ],
   "source": [
    "# coding=utf-8\n",
    "'''\n",
    "實作用二分搜尋法逼進平方根的函數 `my_sqrt()`，逼近區間可以自行決定\n",
    "Author: Youngmi\n",
    "'''\n",
    "def my_sqrt(num):\n",
    "    mid = num/2.0\n",
    "    up = num #上界\n",
    "    low = 0\n",
    "    cnt = 0\n",
    "    while abs(num - (mid**2)) > 0.01 : #設定誤差在只要小於0.01就停止\n",
    "        print up, low, mid \n",
    "        #print abs(num- (mid**2))\n",
    "        if mid **2 > num:\n",
    "            up = mid #上界變成mid \n",
    "        \n",
    "        else:\n",
    "            low = mid #下界變成mid\n",
    "            \n",
    "        mid = (up+low) /2.0\n",
    "        cnt += 1\n",
    "    print '---'\n",
    "    return mid #逼近的平方根\n",
    "\n",
    "print my_sqrt(5)  "
   ]
  }
 ],
 "metadata": {
  "kernelspec": {
   "display_name": "Python 2",
   "language": "python",
   "name": "python2"
  },
  "language_info": {
   "codemirror_mode": {
    "name": "ipython",
    "version": 2
   },
   "file_extension": ".py",
   "mimetype": "text/x-python",
   "name": "python",
   "nbconvert_exporter": "python",
   "pygments_lexer": "ipython2",
   "version": "2.7.12"
  }
 },
 "nbformat": 4,
 "nbformat_minor": 2
}
